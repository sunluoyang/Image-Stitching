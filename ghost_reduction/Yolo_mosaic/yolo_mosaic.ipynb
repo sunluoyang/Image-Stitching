{
 "cells": [
  {
   "cell_type": "code",
   "execution_count": null,
   "metadata": {
    "collapsed": false
   },
   "outputs": [
    {
     "name": "stdout",
     "output_type": "stream",
     "text": [
      "Looking in indexes: https://mirror.baidu.com/pypi/simple/\n",
      "Collecting opencv_python==3.4.2.17\n",
      "\u001b[?25l  Downloading https://mirror.baidu.com/pypi/packages/8f/8f/a5d2fa3a3309c4e4aa28eb989d81a95b57c63406b4d439758a1a0a810c77/opencv_python-3.4.2.17-cp37-cp37m-manylinux1_x86_64.whl (25.0MB)\n",
      "\u001b[K     |████████████████████████████████| 25.0MB 9.0MB/s eta 0:00:012    |███████████▊                    | 9.1MB 13.5MB/s eta 0:00:02\n",
      "\u001b[?25hRequirement already satisfied: numpy>=1.14.5 in /opt/conda/envs/python35-paddle120-env/lib/python3.7/site-packages (from opencv_python==3.4.2.17) (1.16.4)\n",
      "Installing collected packages: opencv-python\n",
      "  Found existing installation: opencv-python 4.1.1.26\n",
      "    Uninstalling opencv-python-4.1.1.26:\n",
      "      Successfully uninstalled opencv-python-4.1.1.26\n",
      "Successfully installed opencv-python-3.4.2.17\n"
     ]
    }
   ],
   "source": [
    "!pip install opencv_python==3.4.2.17"
   ]
  },
  {
   "cell_type": "code",
   "execution_count": null,
   "metadata": {
    "collapsed": false
   },
   "outputs": [
    {
     "name": "stdout",
     "output_type": "stream",
     "text": [
      "Looking in indexes: https://mirror.baidu.com/pypi/simple/\n",
      "Collecting opencv_contrib_python==3.4.2.17\n",
      "\u001b[?25l  Downloading https://mirror.baidu.com/pypi/packages/12/32/8d32d40cd35e61c80cb112ef5e8dbdcfbb06124f36a765df98517a12e753/opencv_contrib_python-3.4.2.17-cp37-cp37m-manylinux1_x86_64.whl (30.6MB)\n",
      "\u001b[K     |████████████████████████████████| 30.6MB 9.1MB/s eta 0:00:012\n",
      "\u001b[?25hRequirement already satisfied: numpy>=1.14.5 in /opt/conda/envs/python35-paddle120-env/lib/python3.7/site-packages (from opencv_contrib_python==3.4.2.17) (1.16.4)\n",
      "Installing collected packages: opencv-contrib-python\n",
      "Successfully installed opencv-contrib-python-3.4.2.17\n"
     ]
    }
   ],
   "source": [
    "!pip install opencv_contrib_python==3.4.2.17"
   ]
  },
  {
   "cell_type": "code",
   "execution_count": null,
   "metadata": {
    "collapsed": false
   },
   "outputs": [
    {
     "name": "stdout",
     "output_type": "stream",
     "text": [
      "2.0.1\n",
      "3.4.2\n"
     ]
    }
   ],
   "source": [
    "import paddle\r\n",
    "import cv2\r\n",
    "\r\n",
    "print(paddle.__version__)\r\n",
    "print(cv2.__version__)"
   ]
  },
  {
   "cell_type": "code",
   "execution_count": null,
   "metadata": {
    "collapsed": false
   },
   "outputs": [
    {
     "name": "stdout",
     "output_type": "stream",
     "text": [
      "1787946.ipynb  image\t\t__init__.py  PaddleDetection  process\t   work\r\n",
      "data\t       image_stitch.py\toutput\t     PaddlePaddle     __pycache__\r\n"
     ]
    }
   ],
   "source": [
    "!ls"
   ]
  },
  {
   "cell_type": "code",
   "execution_count": 1,
   "metadata": {
    "collapsed": false
   },
   "outputs": [
    {
     "name": "stdout",
     "output_type": "stream",
     "text": [
      "3.4.2\n"
     ]
    }
   ],
   "source": [
    "from time import time\r\n",
    "import os\r\n",
    "import cv2\r\n",
    "import sys\r\n",
    "\r\n",
    "import numpy as np\r\n",
    "import glob as glob\r\n",
    "from matplotlib import pyplot as plt\r\n",
    "import math\r\n",
    "import datetime\r\n",
    "# device = torch.device('cuda:5' if torch.cuda.is_available() else 'cpu')\r\n",
    "\r\n",
    "# print(torch.__version__)\r\n",
    "print(cv2.__version__)\r\n",
    "# print(torchvision.__version__)\r\n",
    "# print(device)\r\n",
    "\r\n",
    "# 该参数为阈值，不太清楚具体作用，但是测试中1.10效果比较好\r\n",
    "GOOD_POINTS_LIMITED = 1\r\n",
    "\r\n",
    "THR = 5\r\n",
    "\r\n",
    "\r\n",
    "def get_save_image_name(output_dir, image_path):\r\n",
    "    \"\"\"\r\n",
    "    Get save image name from source image path.\r\n",
    "    \"\"\"\r\n",
    "    if not os.path.exists(output_dir):\r\n",
    "        os.makedirs(output_dir)\r\n",
    "    image_name = os.path.split(image_path)[-1]\r\n",
    "    name, ext = os.path.splitext(image_name)\r\n",
    "    return os.path.join(output_dir, \"{}\".format(name)) + ext\r\n",
    "\r\n",
    "# 图像拼接\r\n",
    "class image_mosaic():\r\n",
    "    # 初始化\r\n",
    "    def __init__(self, fea_extraction,outpath):\r\n",
    "        '''\r\n",
    "        图像拼接类初始化\r\n",
    "        :param fea_extraction: 特征点提取算法\r\n",
    "        '''\r\n",
    "        self.feature_extraction = fea_extraction\r\n",
    "        self.outpath = outpath\r\n",
    "        self.img_final = None\r\n",
    "        self.img1 = None\r\n",
    "        self.img2 = None\r\n",
    "        self.stitch = None\r\n",
    "        self.small_rate = 0.2\r\n",
    "\r\n",
    "    # 图片大小调整\r\n",
    "    def resize_image(self):\r\n",
    "\r\n",
    "        h1, w1, p1 = self.img1.shape\r\n",
    "        h2, w2, p2 = self.img2.shape\r\n",
    "\r\n",
    "        h = max(h1, h2)\r\n",
    "        w = max(w1, w2)\r\n",
    "        self.img1 = cv2.copyMakeBorder(self.img1, int(np.ceil((h - h1) / 2)), int(np.floor((h - h1) / 2)),\r\n",
    "                                       int(np.ceil((w - w1) / 2)), int(np.floor((w - w1) / 2)), cv2.BORDER_CONSTANT,\r\n",
    "                                       value=(0, 0, 0))\r\n",
    "        self.img2 = cv2.copyMakeBorder(self.img2, int(np.ceil((h - h2) / 2)), int(np.floor((h - h2) / 2)),\r\n",
    "                                       int(np.ceil((w - w2) / 2)), int(np.floor((w - w2) / 2)), cv2.BORDER_CONSTANT,\r\n",
    "                                       value=(0, 0, 0))\r\n",
    "\r\n",
    "    # 图像拼接\r\n",
    "    def mosaic(self, img1_path, img2_path):\r\n",
    "        switch = {\"ORB\": self.creat_orb,\r\n",
    "                  \"SIFT\": self.creat_sift,\r\n",
    "                  \"SURF\": self.creat_surf,\r\n",
    "                  \"FLANN\": self.creat_flann}\r\n",
    "        self.stitch = switch.get(self.feature_extraction)()\r\n",
    "\r\n",
    "        self.img1 = cv2.imread(img1_path)\r\n",
    "        self.img2 = cv2.imread(img2_path)\r\n",
    "\r\n",
    "        # print(\"图像拼接\")\r\n",
    "        h1, w1, p1 = self.img1.shape  # img1，新图像，w1、h1为宽和高\r\n",
    "        h2, w2, p2 = self.img2.shape  # img2，待拼接图像，w2、h2为宽和高\r\n",
    "\r\n",
    "        # M1 = np.array([[1., 0., w1], [0., 1., h1]])\r\n",
    "        # dst1 = cv2.warpAffine(self.img1, M1, (w2 + 2 * w1, h2 + 2 * h1))  # 通过仿射变换将图像\r\n",
    "        # dst2 = cv2.warpAffine(self.img2, M1, (w2 + 2 * w1, h2 + 2 * h1))  # 置于边长为w2+2*w1的中央\r\n",
    "\r\n",
    "        start_fea = time()\r\n",
    "        img1 = cv2.resize(self.img1,(int(w1*self.small_rate),int(h1*self.small_rate)))\r\n",
    "        img2 = cv2.resize(self.img2,(int(w2*self.small_rate),int(h2*self.small_rate)))\r\n",
    "        # img1 = cv2.cvtColor(img1, cv2.COLOR_BGR2GRAY)\r\n",
    "        # img2 = cv2.cvtColor(img2, cv2.COLOR_BGR2GRAY)\r\n",
    "        kp1, des1 = self.stitch.detectAndCompute(img1, None)  # self.stitch=cv2.xfeatures2d_SURF.\r\n",
    "        kp2, des2 = self.stitch.detectAndCompute(img2, None)  # create(hessianThreshold=100)\r\n",
    "        stop_fea = time()\r\n",
    "        print(\"此次特征点提取需要\" + str(stop_fea - start_fea) + \"秒\")\r\n",
    "\r\n",
    "        start_fea = time()\r\n",
    "        FLANN_INDEX_KDTREE = 0  # kd树\r\n",
    "        index_params = dict(algorithm=FLANN_INDEX_KDTREE, trees=5)\r\n",
    "        search_params = dict(checks=50)  # or pass empty dictionary\r\n",
    "        flann = cv2.FlannBasedMatcher(index_params, search_params)\r\n",
    "        matches = flann.knnMatch(des1, des2, k=2)\r\n",
    "        stop_fea = time()\r\n",
    "        print(\"此次特征点匹配需要\" + str(stop_fea - start_fea) + \"秒\")\r\n",
    "\r\n",
    "        # 提取goodPoint\r\n",
    "        goodPoints = []\r\n",
    "        for m, n in matches:\r\n",
    "            if m.distance < 0.6 * n.distance:\r\n",
    "                goodPoints.append(m)\r\n",
    "\r\n",
    "        # 画匹配图\r\n",
    "        img3 = cv2.drawMatches(img1, kp1, img2, kp2, goodPoints, flags=2, outImg=None)\r\n",
    "        plt.figure(5)\r\n",
    "        plt.imshow(img3[:,:,::-1])\r\n",
    "        cv2.imwrite(self.outpath+\"/pair.jpg\",img3)\r\n",
    "        # cv2.imshow(\"asd\",img3)\r\n",
    "\r\n",
    "        src_pts = np.float32([kp1[m.queryIdx].pt for m in goodPoints]).reshape(-1, 1, 2)\r\n",
    "        dst_pts = np.float32([kp2[m.trainIdx].pt for m in goodPoints]).reshape(-1, 1, 2)\r\n",
    "\r\n",
    "        M, mask = cv2.findHomography(src_pts, dst_pts, cv2.RANSAC, 5.0)\r\n",
    "\r\n",
    "        print(\"M:\")\r\n",
    "        print(M)\r\n",
    "        \r\n",
    "        # M_R = np.array([[1/self.small_rate, 0, 0], [0, 1/self.small_rate, 0], [0, 0, 1]])\r\n",
    "        M_R = np.array([[1, 0, 0], [0, 1, 0], [0, 0, 1/self.small_rate]])\r\n",
    "        M_L = np.array([[1, 0, 0], [0, 1, 0], [0, 0, self.small_rate]])\r\n",
    "        M = np.dot(M_L, M)\r\n",
    "        M = np.dot(M, M_R)\r\n",
    "        M_T = np.array([[1., 0., w1], [0., 1., h1], [0, 0, 1]])\r\n",
    "\r\n",
    "        imageTransform = cv2.warpPerspective(self.img1, np.dot(M_T,M), (w2+2*w1,h2+2*h1))\r\n",
    "        img2 = cv2.warpPerspective(self.img2, M_T, (w2+2*w1,h2+2*h1)) \r\n",
    "        # a = int(w1*self.small_rate)\r\n",
    "        # b = int(h1*self.small_rate)\r\n",
    "        # Test = np.array([[1, 0, a], [0, 1, b], [0, 0, 1]])\r\n",
    "\r\n",
    "        # imageTransform = cv2.warpPerspective(img1, M, (w2+2*w1,h2+2*h1))\r\n",
    "        # img2 = cv2.warpPerspective(img2, M_R, (w2+2*w1,h2+2*h1)) \r\n",
    "\r\n",
    "        img1_save_name = get_save_image_name(self.outpath,img1_path)\r\n",
    "        img2_save_name = get_save_image_name(self.outpath,img2_path)\r\n",
    "\r\n",
    "        cv2.imwrite(img1_save_name, imageTransform)\r\n",
    "        cv2.imwrite(img2_save_name, img2)\r\n",
    "        cv2.imwrite(self.outpath+\"/finall.jpg\",np.maximum(img2, imageTransform))\r\n",
    "\r\n",
    "        # plt.figure(1)\r\n",
    "        # plt.imshow(self.img_final[:,:,::-1])\r\n",
    "\r\n",
    "        plt.figure(1)\r\n",
    "        plt.imshow(imageTransform[:,:,::-1])\r\n",
    "        plt.figure(2)\r\n",
    "        plt.imshow(img2[:,:,::-1])\r\n",
    "        plt.figure(3)\r\n",
    "        plt.imshow(np.maximum(img2, imageTransform)[:,:,::-1])\r\n",
    "\r\n",
    "    # 图像拼接\r\n",
    "    def creat_orb(self):\r\n",
    "        print(\"creat_orb\")\r\n",
    "        return cv2.ORB_create()\r\n",
    "\r\n",
    "    def creat_sift(self):\r\n",
    "        print(\"creat_sift\")\r\n",
    "        return cv2.xfeatures2d.SIFT_create()\r\n",
    "\r\n",
    "    def creat_flann(self):\r\n",
    "        print(\"creat_flann\")\r\n",
    "\r\n",
    "    def creat_surf(self):\r\n",
    "        print(\"creat_surf\")\r\n",
    "        return cv2.xfeatures2d_SURF.create(hessianThreshold=100)\r\n",
    "\r\n"
   ]
  },
  {
   "cell_type": "code",
   "execution_count": 2,
   "metadata": {
    "collapsed": false
   },
   "outputs": [],
   "source": [
    "image_tool = image_mosaic(\"SURF\",\"./output\")\r\n"
   ]
  },
  {
   "cell_type": "code",
   "execution_count": 4,
   "metadata": {
    "collapsed": false
   },
   "outputs": [
    {
     "name": "stdout",
     "output_type": "stream",
     "text": [
      "creat_surf\n",
      "此次特征点提取需要0.8317356109619141秒\n",
      "此次特征点匹配需要0.21161365509033203秒\n",
      "M:\n",
      "[[ 6.37730872e-01 -1.31625095e-02  2.36306349e+02]\n",
      " [-4.87003206e-02  8.78110566e-01  1.15904059e+01]\n",
      " [-4.53644427e-04  4.75976991e-05  1.00000000e+00]]\n"
     ]
    }
   ],
   "source": [
    "img1_path = \"./image/007.jpg\"\r\n",
    "img2_path = \"./image/008.jpg\"\r\n",
    "image_tool.mosaic(img1_path, img2_path)"
   ]
  },
  {
   "cell_type": "code",
   "execution_count": null,
   "metadata": {
    "collapsed": false
   },
   "outputs": [
    {
     "name": "stdout",
     "output_type": "stream",
     "text": [
      "1787946.ipynb  image\t\t__init__.py  PaddleDetection  process\t   work\n",
      "data\t       image_stitch.py\toutput\t     PaddlePaddle     __pycache__\n",
      "/opt/conda/envs/python35-paddle120-env/lib/python3.7/site-packages/setuptools/depends.py:2: DeprecationWarning: the imp module is deprecated in favour of importlib; see the module's documentation for alternative uses\n",
      "  import imp\n",
      "2021-04-14 14:40:07,506 - INFO - Found 7 inference images in total.\n",
      "2021-04-14 14:40:09,628 - INFO - Downloading ppyolo.pdparams from https://paddlemodels.bj.bcebos.com/object_detection/ppyolo.pdparams\n",
      "100%|████████████████████████████████| 184084/184084 [00:10<00:00, 18314.11KB/s]\n",
      "2021-04-14 14:40:20,721 - INFO - Not found annotation file annotations/instances_val2017.json, load coco17 categories.\n",
      "2021-04-14 14:40:25,647 - INFO - Infer iter 0\n",
      "2021-04-14 14:40:26,835 - INFO - Detection bbox results save in output/007.jpg\n",
      "2021-04-14 14:40:28,157 - INFO - Detection bbox results save in output/007.json\n",
      "2021-04-14 14:40:30,944 - INFO - Infer iter 1\n",
      "2021-04-14 14:40:31,944 - INFO - Detection bbox results save in output/finall.jpg\n",
      "2021-04-14 14:40:33,357 - INFO - Detection bbox results save in output/finall.json\n",
      "2021-04-14 14:40:36,053 - INFO - Infer iter 2\n",
      "2021-04-14 14:40:37,026 - INFO - Detection bbox results save in output/0080with0.jpg\n",
      "2021-04-14 14:40:38,326 - INFO - Detection bbox results save in output/0080with0.json\n",
      "2021-04-14 14:40:41,071 - INFO - Infer iter 3\n",
      "2021-04-14 14:40:42,082 - INFO - Detection bbox results save in output/finall_yolo0with0.jpg\n",
      "2021-04-14 14:40:43,484 - INFO - Detection bbox results save in output/finall_yolo0with0.json\n",
      "2021-04-14 14:40:46,418 - INFO - Infer iter 4\n",
      "2021-04-14 14:40:46,437 - INFO - Detection bbox results save in output/pair.jpg\n",
      "2021-04-14 14:40:46,465 - INFO - Detection bbox results save in output/pair.json\n",
      "2021-04-14 14:40:49,214 - INFO - Infer iter 5\n",
      "2021-04-14 14:40:50,130 - INFO - Detection bbox results save in output/0070with0.jpg\n",
      "2021-04-14 14:40:51,448 - INFO - Detection bbox results save in output/0070with0.json\n",
      "2021-04-14 14:40:54,191 - INFO - Infer iter 6\n",
      "2021-04-14 14:40:55,166 - INFO - Detection bbox results save in output/008.jpg\n",
      "2021-04-14 14:40:56,466 - INFO - Detection bbox results save in output/008.json\n"
     ]
    }
   ],
   "source": [
    "!ls\r\n",
    "!python PaddleDetection/tools/infer2label.py -c PaddleDetection/configs/ppyolo/ppyolo.yml  -o weights=https://paddlemodels.bj.bcebos.com/object_detection/ppyolo.pdparams --infer_dir=output"
   ]
  },
  {
   "cell_type": "code",
   "execution_count": null,
   "metadata": {
    "collapsed": false
   },
   "outputs": [
    {
     "name": "stdout",
     "output_type": "stream",
     "text": [
      "1787946.ipynb  image\t\t__init__.py  PaddleDetection  process\t   work\r\n",
      "data\t       image_stitch.py\toutput\t     PaddlePaddle     __pycache__\r\n"
     ]
    }
   ],
   "source": [
    "!ls"
   ]
  },
  {
   "cell_type": "code",
   "execution_count": null,
   "metadata": {
    "collapsed": false
   },
   "outputs": [
    {
     "name": "stderr",
     "output_type": "stream",
     "text": [
      "2021-04-14 14:42:00,055 - INFO - Found 2 inference images in total.\n"
     ]
    },
    {
     "name": "stdout",
     "output_type": "stream",
     "text": [
      "['/home/aistudio/output/007.json', '/home/aistudio/output/008.json']\n"
     ]
    }
   ],
   "source": [
    "import json\r\n",
    "import os\r\n",
    "import logging\r\n",
    "FORMAT = '%(asctime)s-%(levelname)s: %(message)s'\r\n",
    "logging.basicConfig(level=logging.INFO, format=FORMAT)\r\n",
    "logger = logging.getLogger(__name__)\r\n",
    "\r\n",
    "label_path = \"output/\"\r\n",
    "\r\n",
    "def get_label(infer_dir):\r\n",
    "    images = set()\r\n",
    "    infer_dir = os.path.abspath(infer_dir)\r\n",
    "    assert os.path.isdir(infer_dir), \\\r\n",
    "        \"infer_dir {} is not a directory\".format(infer_dir)\r\n",
    "    exts = ['json']\r\n",
    "    for ext in exts:\r\n",
    "        images.update(glob.glob('{}/*.{}'.format(infer_dir, ext)))\r\n",
    "    images = list(images)\r\n",
    "\r\n",
    "    assert len(images) > 0, \"no image found in {}\".format(infer_dir)\r\n",
    "    logger.info(\"Found {} inference images in total.\".format(len(images)))\r\n",
    "\r\n",
    "    return images\r\n",
    "\r\n",
    "json_list = get_label(label_path)\r\n",
    "print(json_list)"
   ]
  },
  {
   "cell_type": "code",
   "execution_count": null,
   "metadata": {
    "collapsed": false
   },
   "outputs": [
    {
     "name": "stdout",
     "output_type": "stream",
     "text": [
      "{'image_id': 0, 'category_id': 1, 'bbox': [6197.42236328125, 2243.9248046875, 460.15234375, 1310.927734375], 'score': 0.9662660956382751}\n"
     ]
    }
   ],
   "source": [
    "json_label_list = []\r\n",
    "for json_name in json_list:\r\n",
    "    with open(json_name, 'r') as f:\r\n",
    "        json_label_list.append(json.load(f))\r\n",
    "\r\n",
    "print(json_label_list[0][0])"
   ]
  },
  {
   "cell_type": "code",
   "execution_count": null,
   "metadata": {
    "collapsed": false
   },
   "outputs": [
    {
     "name": "stdout",
     "output_type": "stream",
     "text": [
      "{'image_id': 0, 'category_id': 1, 'bbox': [6197.42236328125, 2243.9248046875, 460.15234375, 1310.927734375], 'score': 0.9662660956382751}\n",
      "{'image_id': 6, 'category_id': 1, 'bbox': [6120.0830078125, 2252.818115234375, 519.658203125, 1367.03662109375], 'score': 0.9846720695495605}\n",
      "output//finall_yolo0with0.jpg\n"
     ]
    },
    {
     "data": {
      "image/png": "[encoded data removed]",
      "text/plain": [
       "<Figure size 432x288 with 1 Axes>"
      ]
     },
     "metadata": {},
     "output_type": "display_data"
    },
    {
     "data": {
      "image/png": "[encoded data removed]",
      "text/plain": [
       "<Figure size 432x288 with 1 Axes>"
      ]
     },
     "metadata": {},
     "output_type": "display_data"
    },
    {
     "data": {
      "image/png": "[encoded data removed]",
      "text/plain": [
       "<Figure size 432x288 with 1 Axes>"
      ]
     },
     "metadata": {},
     "output_type": "display_data"
    }
   ],
   "source": [
    "def box_iou_xyxy(box1, box2):\r\n",
    "    # 获取box1左上角和右下角的坐标\r\n",
    "\r\n",
    "    x1min, y1min, x1max, y1max = box1[0], box1[1], box1[0]+box1[2] , box1[1]+box1[3]\r\n",
    "    # 计算box1的面积\r\n",
    "    s1 = box1[2]*box1[3]\r\n",
    "    # 获取box2左上角和右下角的坐标\r\n",
    "    x2min, y2min, x2max, y2max = box2[0], box2[1], box2[0]+box2[2], box2[1]+box2[3]\r\n",
    "    # 计算box2的面积\r\n",
    "    s2 = box2[2]*box2[3]\r\n",
    "    \r\n",
    "    # 计算相交矩形框的坐标\r\n",
    "    xmin = np.maximum(x1min, x2min)\r\n",
    "    ymin = np.maximum(y1min, y2min)\r\n",
    "    xmax = np.minimum(x1max, x2max)\r\n",
    "    ymax = np.minimum(y1max, y2max)\r\n",
    "    # 计算相交矩形行的高度、宽度、面积\r\n",
    "    inter_h = np.maximum(ymax - ymin + 1., 0.)\r\n",
    "    inter_w = np.maximum(xmax - xmin + 1., 0.)\r\n",
    "    intersection = inter_h * inter_w\r\n",
    "    # 计算相并面积\r\n",
    "    union = s1 + s2 - intersection\r\n",
    "    # 计算交并比\r\n",
    "    iou = intersection / union\r\n",
    "    return iou\r\n",
    "\r\n",
    "images_path = 'output/'\r\n",
    "\r\n",
    "IOU_thera_L = 0.3\r\n",
    "IOU_thera_U = 0.96\r\n",
    "\r\n",
    "for i in range(len(json_label_list[0])):\r\n",
    "    for j in range(len(json_label_list[1])):\r\n",
    "        if json_label_list[0][i][\"category_id\"] == json_label_list[1][j][\"category_id\"]:\r\n",
    "            if IOU_thera_L < box_iou_xyxy(json_label_list[0][i]['bbox'], json_label_list[1][j]['bbox']) < IOU_thera_U:\r\n",
    "                print(json_label_list[0][i])\r\n",
    "                print(json_label_list[1][j])\r\n",
    "                image_i_path = os.path.join(images_path, json_list[0].split('/')[-1].split('.')[-2]+\".jpg\")\r\n",
    "                img_i = cv2.imread(image_i_path)\r\n",
    "                image_j_path = os.path.join(images_path, json_list[1].split('/')[-1].split('.')[-2]+\".jpg\")\r\n",
    "                img_j = cv2.imread(image_j_path)\r\n",
    "\r\n",
    "                box = json_label_list[1][j]['bbox']\r\n",
    "                # xmin, ymin, xmax, ymax = box[0]-0.1*box[2], box[1]-0.1*box[3], box[0]+1.1*box[2] , box[1]+1.1*box[3]\r\n",
    "                xmin, ymin, xmax, ymax = box[0]-0.1*box[2], box[1]-0.1*box[3], box[0]+1.1*box[2], box[1]+1.1*box[3]\r\n",
    "                h, w, p = img_i.shape\r\n",
    "                \r\n",
    "                # xmin = max(0,xmin)\r\n",
    "                # ymin = max(0,ymin)\r\n",
    "                # xmax = min(xmax,h)\r\n",
    "                # ymax = min(ymax,w)\r\n",
    "                \r\n",
    "                for a in range(int(ymin),int(ymax)):\r\n",
    "                    for b in range(int(xmin),int(xmax)):\r\n",
    "                        if np.sum(img_i[a][b]) > 0:\r\n",
    "                            img_j[a][b] = img_i[a][b]\r\n",
    "\r\n",
    "                cv2.imwrite(image_j_path,img_j)\r\n",
    "                plt.figure(1)\r\n",
    "                plt.imshow(img_i[:,:,::-1])\r\n",
    "                cv2.imwrite(images_path+\"/008\"+str(i)+\"with\"+str(j)+\".jpg\",img_i)\r\n",
    "                plt.figure(2)\r\n",
    "                plt.imshow(img_j[:,:,::-1])\r\n",
    "                cv2.imwrite(images_path+\"/007\"+str(i)+\"with\"+str(j)+\".jpg\", img_j)\r\n",
    "                plt.figure(3)\r\n",
    "                plt.imshow(np.maximum(img_i, img_j)[:,:,::-1])\r\n",
    "                cv2.imwrite(images_path+\"/finall_yolo\"+str(i)+\"with\"+str(j)+\".jpg\",np.maximum(img_i, img_j))\r\n",
    "                print(images_path+\"/finall_yolo\"+str(i)+\"with\"+str(j)+\".jpg\")\r\n",
    "\r\n"
   ]
  },
  {
   "cell_type": "code",
   "execution_count": null,
   "metadata": {
    "collapsed": false
   },
   "outputs": [],
   "source": []
  },
  {
   "cell_type": "code",
   "execution_count": null,
   "metadata": {
    "collapsed": false
   },
   "outputs": [],
   "source": []
  },
  {
   "cell_type": "code",
   "execution_count": null,
   "metadata": {
    "collapsed": false
   },
   "outputs": [
    {
     "name": "stdout",
     "output_type": "stream",
     "text": [
      "/opt/conda/envs/python35-paddle120-env/lib/python3.7/site-packages/setuptools/depends.py:2: DeprecationWarning: the imp module is deprecated in favour of importlib; see the module's documentation for alternative uses\n",
      "  import imp\n",
      "2021-04-12 16:24:55,150 - INFO - Not found annotation file annotations/instances_val2017.json, load coco17 categories.\n",
      "2021-04-12 16:24:55,154 - INFO - Export inference config file to output/ppyolo/infer_cfg.yml\n",
      "2021-04-12 16:24:55,363 - INFO - save_inference_model pruned unused feed variables im_id\n",
      "2021-04-12 16:24:55,363 - INFO - Export inference model to output/ppyolo, input: ['image', 'im_size'], output: ['matrix_nms_0.tmp_0']...\n"
     ]
    }
   ],
   "source": [
    "!python PaddleDetection/tools/export_model.py -c PaddleDetection/configs/ppyolo/ppyolo.yml -o weights=https://paddlemodels.bj.bcebos.com/object_detection/ppyolo.pdparams\r\n",
    "print(\"success!\")"
   ]
  }
 ],
 "metadata": {
  "kernelspec": {
   "display_name": "PaddlePaddle 2.0.0b0 (Python 3.5)",
   "language": "python",
   "name": "py35-paddle1.2.0"
  },
  "language_info": {
   "codemirror_mode": {
    "name": "ipython",
    "version": 3
   },
   "file_extension": ".py",
   "mimetype": "text/x-python",
   "name": "python",
   "nbconvert_exporter": "python",
   "pygments_lexer": "ipython3",
   "version": "3.7.4"
  }
 },
 "nbformat": 4,
 "nbformat_minor": 1
}
